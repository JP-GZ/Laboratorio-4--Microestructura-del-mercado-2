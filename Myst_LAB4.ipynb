{
 "cells": [
  {
   "cell_type": "markdown",
   "metadata": {},
   "source": []
  },
  {
   "cell_type": "markdown",
   "metadata": {},
   "source": []
  },
  {
   "cell_type": "code",
   "execution_count": 5,
   "metadata": {},
   "outputs": [],
   "source": [
    "# importar librerias \n",
    "import pandas as pd\n",
    "import numpy as np\n",
    "import importlib\n",
    "import asyncio\n",
    "import nest_asyncio\n",
    "nest_asyncio.apply()\n",
    "import time "
   ]
  },
  {
   "cell_type": "code",
   "execution_count": 8,
   "metadata": {},
   "outputs": [
    {
     "data": {
      "text/plain": [
       "<module 'main' from 'c:\\\\Users\\\\jpgz3\\\\OneDrive - ITESO\\\\9 semestre\\\\MySt\\\\Laboratorio-4--Microestructura-del-mercado-2\\\\main.py'>"
      ]
     },
     "execution_count": 8,
     "metadata": {},
     "output_type": "execute_result"
    }
   ],
   "source": [
    "import main\n",
    "importlib.reload(main)"
   ]
  },
  {
   "cell_type": "code",
   "execution_count": 10,
   "metadata": {},
   "outputs": [
    {
     "ename": "TypeError",
     "evalue": "'AttributeError' object is not iterable",
     "output_type": "error",
     "traceback": [
      "\u001b[1;31m---------------------------------------------------------------------------\u001b[0m",
      "\u001b[1;31mTypeError\u001b[0m                                 Traceback (most recent call last)",
      "Cell \u001b[1;32mIn[10], line 5\u001b[0m\n\u001b[0;32m      3\u001b[0m run_time \u001b[39m=\u001b[39m \u001b[39m10\u001b[39m\n\u001b[0;32m      4\u001b[0m symbol \u001b[39m=\u001b[39m \u001b[39m\"\u001b[39m\u001b[39mETH/BTC\u001b[39m\u001b[39m\"\u001b[39m\n\u001b[1;32m----> 5\u001b[0m ETH_BTC \u001b[39m=\u001b[39m asyncio\u001b[39m.\u001b[39;49mrun(main\u001b[39m.\u001b[39;49mget_orderbooks(exchanges,run_time,symbol))\n",
      "File \u001b[1;32mc:\\Users\\jpgz3\\OneDrive - ITESO\\9 semestre\\MySt\\Laboratorio-4--Microestructura-del-mercado-2\\venv\\lib\\site-packages\\nest_asyncio.py:35\u001b[0m, in \u001b[0;36m_patch_asyncio.<locals>.run\u001b[1;34m(main, debug)\u001b[0m\n\u001b[0;32m     33\u001b[0m task \u001b[39m=\u001b[39m asyncio\u001b[39m.\u001b[39mensure_future(main)\n\u001b[0;32m     34\u001b[0m \u001b[39mtry\u001b[39;00m:\n\u001b[1;32m---> 35\u001b[0m     \u001b[39mreturn\u001b[39;00m loop\u001b[39m.\u001b[39;49mrun_until_complete(task)\n\u001b[0;32m     36\u001b[0m \u001b[39mfinally\u001b[39;00m:\n\u001b[0;32m     37\u001b[0m     \u001b[39mif\u001b[39;00m \u001b[39mnot\u001b[39;00m task\u001b[39m.\u001b[39mdone():\n",
      "File \u001b[1;32mc:\\Users\\jpgz3\\OneDrive - ITESO\\9 semestre\\MySt\\Laboratorio-4--Microestructura-del-mercado-2\\venv\\lib\\site-packages\\nest_asyncio.py:90\u001b[0m, in \u001b[0;36m_patch_loop.<locals>.run_until_complete\u001b[1;34m(self, future)\u001b[0m\n\u001b[0;32m     87\u001b[0m \u001b[39mif\u001b[39;00m \u001b[39mnot\u001b[39;00m f\u001b[39m.\u001b[39mdone():\n\u001b[0;32m     88\u001b[0m     \u001b[39mraise\u001b[39;00m \u001b[39mRuntimeError\u001b[39;00m(\n\u001b[0;32m     89\u001b[0m         \u001b[39m'\u001b[39m\u001b[39mEvent loop stopped before Future completed.\u001b[39m\u001b[39m'\u001b[39m)\n\u001b[1;32m---> 90\u001b[0m \u001b[39mreturn\u001b[39;00m f\u001b[39m.\u001b[39;49mresult()\n",
      "File \u001b[1;32m~\\AppData\\Local\\Programs\\Python\\Python39\\lib\\asyncio\\futures.py:201\u001b[0m, in \u001b[0;36mFuture.result\u001b[1;34m(self)\u001b[0m\n\u001b[0;32m    199\u001b[0m \u001b[39mself\u001b[39m\u001b[39m.\u001b[39m__log_traceback \u001b[39m=\u001b[39m \u001b[39mFalse\u001b[39;00m\n\u001b[0;32m    200\u001b[0m \u001b[39mif\u001b[39;00m \u001b[39mself\u001b[39m\u001b[39m.\u001b[39m_exception \u001b[39mis\u001b[39;00m \u001b[39mnot\u001b[39;00m \u001b[39mNone\u001b[39;00m:\n\u001b[1;32m--> 201\u001b[0m     \u001b[39mraise\u001b[39;00m \u001b[39mself\u001b[39m\u001b[39m.\u001b[39m_exception\n\u001b[0;32m    202\u001b[0m \u001b[39mreturn\u001b[39;00m \u001b[39mself\u001b[39m\u001b[39m.\u001b[39m_result\n",
      "File \u001b[1;32m~\\AppData\\Local\\Programs\\Python\\Python39\\lib\\asyncio\\tasks.py:256\u001b[0m, in \u001b[0;36mTask.__step\u001b[1;34m(***failed resolving arguments***)\u001b[0m\n\u001b[0;32m    252\u001b[0m \u001b[39mtry\u001b[39;00m:\n\u001b[0;32m    253\u001b[0m     \u001b[39mif\u001b[39;00m exc \u001b[39mis\u001b[39;00m \u001b[39mNone\u001b[39;00m:\n\u001b[0;32m    254\u001b[0m         \u001b[39m# We use the `send` method directly, because coroutines\u001b[39;00m\n\u001b[0;32m    255\u001b[0m         \u001b[39m# don't have `__iter__` and `__next__` methods.\u001b[39;00m\n\u001b[1;32m--> 256\u001b[0m         result \u001b[39m=\u001b[39m coro\u001b[39m.\u001b[39;49msend(\u001b[39mNone\u001b[39;49;00m)\n\u001b[0;32m    257\u001b[0m     \u001b[39melse\u001b[39;00m:\n\u001b[0;32m    258\u001b[0m         result \u001b[39m=\u001b[39m coro\u001b[39m.\u001b[39mthrow(exc)\n",
      "File \u001b[1;32mc:\\Users\\jpgz3\\OneDrive - ITESO\\9 semestre\\MySt\\Laboratorio-4--Microestructura-del-mercado-2\\main.py:8\u001b[0m, in \u001b[0;36mget_orderbooks\u001b[1;34m(exchanges, run_time, symbol)\u001b[0m\n\u001b[0;32m      7\u001b[0m \u001b[39masync\u001b[39;00m \u001b[39mdef\u001b[39;00m \u001b[39mget_orderbooks\u001b[39m(exchanges,run_time,symbol):\n\u001b[1;32m----> 8\u001b[0m     data \u001b[39m=\u001b[39m \u001b[39mawait\u001b[39;00m (orderbooks_df(exchanges\u001b[39m=\u001b[39mexchanges, run_time\u001b[39m=\u001b[39mrun_time, symbol\u001b[39m=\u001b[39msymbol))\n\u001b[0;32m      9\u001b[0m     \u001b[39mreturn\u001b[39;00m data\n",
      "File \u001b[1;32mc:\\Users\\jpgz3\\OneDrive - ITESO\\9 semestre\\MySt\\Laboratorio-4--Microestructura-del-mercado-2\\data.py:72\u001b[0m, in \u001b[0;36morderbooks_df\u001b[1;34m(exchanges, run_time, symbol)\u001b[0m\n\u001b[0;32m     70\u001b[0m \u001b[39masync\u001b[39;00m \u001b[39mdef\u001b[39;00m \u001b[39morderbooks_df\u001b[39m (exchanges:\u001b[39mlist\u001b[39m,run_time:\u001b[39mint\u001b[39m,symbol:\u001b[39mstr\u001b[39m): \u001b[39m# json:bool\u001b[39;00m\n\u001b[0;32m     71\u001b[0m     data \u001b[39m=\u001b[39m asyncio\u001b[39m.\u001b[39mrun(multi_orderbooks(exchanges, run_time\u001b[39m=\u001b[39mrun_time, symbol\u001b[39m=\u001b[39msymbol))\n\u001b[1;32m---> 72\u001b[0m     data \u001b[39m=\u001b[39m [item \u001b[39mfor\u001b[39;00m sublist \u001b[39min\u001b[39;00m data \u001b[39mfor\u001b[39;00m item \u001b[39min\u001b[39;00m sublist]\n\u001b[0;32m     73\u001b[0m     data \u001b[39m=\u001b[39m pd\u001b[39m.\u001b[39mDataFrame(data)\n\u001b[0;32m     74\u001b[0m     data\u001b[39m.\u001b[39mset_index(\u001b[39m'\u001b[39m\u001b[39mexchange\u001b[39m\u001b[39m'\u001b[39m, inplace\u001b[39m=\u001b[39m\u001b[39mTrue\u001b[39;00m)\n",
      "File \u001b[1;32mc:\\Users\\jpgz3\\OneDrive - ITESO\\9 semestre\\MySt\\Laboratorio-4--Microestructura-del-mercado-2\\data.py:72\u001b[0m, in \u001b[0;36m<listcomp>\u001b[1;34m(.0)\u001b[0m\n\u001b[0;32m     70\u001b[0m \u001b[39masync\u001b[39;00m \u001b[39mdef\u001b[39;00m \u001b[39morderbooks_df\u001b[39m (exchanges:\u001b[39mlist\u001b[39m,run_time:\u001b[39mint\u001b[39m,symbol:\u001b[39mstr\u001b[39m): \u001b[39m# json:bool\u001b[39;00m\n\u001b[0;32m     71\u001b[0m     data \u001b[39m=\u001b[39m asyncio\u001b[39m.\u001b[39mrun(multi_orderbooks(exchanges, run_time\u001b[39m=\u001b[39mrun_time, symbol\u001b[39m=\u001b[39msymbol))\n\u001b[1;32m---> 72\u001b[0m     data \u001b[39m=\u001b[39m [item \u001b[39mfor\u001b[39;00m sublist \u001b[39min\u001b[39;00m data \u001b[39mfor\u001b[39;00m item \u001b[39min\u001b[39;00m sublist]\n\u001b[0;32m     73\u001b[0m     data \u001b[39m=\u001b[39m pd\u001b[39m.\u001b[39mDataFrame(data)\n\u001b[0;32m     74\u001b[0m     data\u001b[39m.\u001b[39mset_index(\u001b[39m'\u001b[39m\u001b[39mexchange\u001b[39m\u001b[39m'\u001b[39m, inplace\u001b[39m=\u001b[39m\u001b[39mTrue\u001b[39;00m)\n",
      "\u001b[1;31mTypeError\u001b[0m: 'AttributeError' object is not iterable"
     ]
    }
   ],
   "source": [
    "# Por el momento se encuentra asi por que no puedo leer los json de una hora \n",
    "exchanges = [\"bitforex\", \"huobipro\", \"bitmart\"]\n",
    "run_time = 10\n",
    "symbol = \"ETH/BTC\"\n",
    "ETH_BTC = asyncio.run(main.get_orderbooks(exchanges,run_time,symbol))\n",
    " "
   ]
  },
  {
   "cell_type": "code",
   "execution_count": 18,
   "metadata": {},
   "outputs": [
    {
     "ename": "TypeError",
     "evalue": "'AttributeError' object is not iterable",
     "output_type": "error",
     "traceback": [
      "\u001b[1;31m---------------------------------------------------------------------------\u001b[0m",
      "\u001b[1;31mTypeError\u001b[0m                                 Traceback (most recent call last)",
      "Cell \u001b[1;32mIn[18], line 4\u001b[0m\n\u001b[0;32m      2\u001b[0m run_time \u001b[39m=\u001b[39m \u001b[39m10\u001b[39m\n\u001b[0;32m      3\u001b[0m symbol2 \u001b[39m=\u001b[39m \u001b[39m\"\u001b[39m\u001b[39mBTC/USDT\u001b[39m\u001b[39m\"\u001b[39m\n\u001b[1;32m----> 4\u001b[0m BTC_USDT \u001b[39m=\u001b[39m asyncio\u001b[39m.\u001b[39;49mrun(main\u001b[39m.\u001b[39;49mget_orderbooks(exchanges,run_time,symbol2))\n\u001b[0;32m      5\u001b[0m \u001b[39m# Debido a que muestra errores que no puedo solucionar de aqui se corre hasta que salga\u001b[39;00m\n",
      "File \u001b[1;32mc:\\Users\\jpgz3\\OneDrive - ITESO\\9 semestre\\MySt\\Laboratorio-4--Microestructura-del-mercado-2\\venv\\lib\\site-packages\\nest_asyncio.py:35\u001b[0m, in \u001b[0;36m_patch_asyncio.<locals>.run\u001b[1;34m(main, debug)\u001b[0m\n\u001b[0;32m     33\u001b[0m task \u001b[39m=\u001b[39m asyncio\u001b[39m.\u001b[39mensure_future(main)\n\u001b[0;32m     34\u001b[0m \u001b[39mtry\u001b[39;00m:\n\u001b[1;32m---> 35\u001b[0m     \u001b[39mreturn\u001b[39;00m loop\u001b[39m.\u001b[39;49mrun_until_complete(task)\n\u001b[0;32m     36\u001b[0m \u001b[39mfinally\u001b[39;00m:\n\u001b[0;32m     37\u001b[0m     \u001b[39mif\u001b[39;00m \u001b[39mnot\u001b[39;00m task\u001b[39m.\u001b[39mdone():\n",
      "File \u001b[1;32mc:\\Users\\jpgz3\\OneDrive - ITESO\\9 semestre\\MySt\\Laboratorio-4--Microestructura-del-mercado-2\\venv\\lib\\site-packages\\nest_asyncio.py:90\u001b[0m, in \u001b[0;36m_patch_loop.<locals>.run_until_complete\u001b[1;34m(self, future)\u001b[0m\n\u001b[0;32m     87\u001b[0m \u001b[39mif\u001b[39;00m \u001b[39mnot\u001b[39;00m f\u001b[39m.\u001b[39mdone():\n\u001b[0;32m     88\u001b[0m     \u001b[39mraise\u001b[39;00m \u001b[39mRuntimeError\u001b[39;00m(\n\u001b[0;32m     89\u001b[0m         \u001b[39m'\u001b[39m\u001b[39mEvent loop stopped before Future completed.\u001b[39m\u001b[39m'\u001b[39m)\n\u001b[1;32m---> 90\u001b[0m \u001b[39mreturn\u001b[39;00m f\u001b[39m.\u001b[39;49mresult()\n",
      "File \u001b[1;32m~\\AppData\\Local\\Programs\\Python\\Python39\\lib\\asyncio\\futures.py:201\u001b[0m, in \u001b[0;36mFuture.result\u001b[1;34m(self)\u001b[0m\n\u001b[0;32m    199\u001b[0m \u001b[39mself\u001b[39m\u001b[39m.\u001b[39m__log_traceback \u001b[39m=\u001b[39m \u001b[39mFalse\u001b[39;00m\n\u001b[0;32m    200\u001b[0m \u001b[39mif\u001b[39;00m \u001b[39mself\u001b[39m\u001b[39m.\u001b[39m_exception \u001b[39mis\u001b[39;00m \u001b[39mnot\u001b[39;00m \u001b[39mNone\u001b[39;00m:\n\u001b[1;32m--> 201\u001b[0m     \u001b[39mraise\u001b[39;00m \u001b[39mself\u001b[39m\u001b[39m.\u001b[39m_exception\n\u001b[0;32m    202\u001b[0m \u001b[39mreturn\u001b[39;00m \u001b[39mself\u001b[39m\u001b[39m.\u001b[39m_result\n",
      "File \u001b[1;32m~\\AppData\\Local\\Programs\\Python\\Python39\\lib\\asyncio\\tasks.py:256\u001b[0m, in \u001b[0;36mTask.__step\u001b[1;34m(***failed resolving arguments***)\u001b[0m\n\u001b[0;32m    252\u001b[0m \u001b[39mtry\u001b[39;00m:\n\u001b[0;32m    253\u001b[0m     \u001b[39mif\u001b[39;00m exc \u001b[39mis\u001b[39;00m \u001b[39mNone\u001b[39;00m:\n\u001b[0;32m    254\u001b[0m         \u001b[39m# We use the `send` method directly, because coroutines\u001b[39;00m\n\u001b[0;32m    255\u001b[0m         \u001b[39m# don't have `__iter__` and `__next__` methods.\u001b[39;00m\n\u001b[1;32m--> 256\u001b[0m         result \u001b[39m=\u001b[39m coro\u001b[39m.\u001b[39;49msend(\u001b[39mNone\u001b[39;49;00m)\n\u001b[0;32m    257\u001b[0m     \u001b[39melse\u001b[39;00m:\n\u001b[0;32m    258\u001b[0m         result \u001b[39m=\u001b[39m coro\u001b[39m.\u001b[39mthrow(exc)\n",
      "File \u001b[1;32mc:\\Users\\jpgz3\\OneDrive - ITESO\\9 semestre\\MySt\\Laboratorio-4--Microestructura-del-mercado-2\\main.py:8\u001b[0m, in \u001b[0;36mget_orderbooks\u001b[1;34m(exchanges, run_time, symbol)\u001b[0m\n\u001b[0;32m      7\u001b[0m \u001b[39masync\u001b[39;00m \u001b[39mdef\u001b[39;00m \u001b[39mget_orderbooks\u001b[39m(exchanges,run_time,symbol):\n\u001b[1;32m----> 8\u001b[0m     data \u001b[39m=\u001b[39m \u001b[39mawait\u001b[39;00m (orderbooks_df(exchanges\u001b[39m=\u001b[39mexchanges, run_time\u001b[39m=\u001b[39mrun_time, symbol\u001b[39m=\u001b[39msymbol))\n\u001b[0;32m      9\u001b[0m     \u001b[39mreturn\u001b[39;00m data\n",
      "File \u001b[1;32mc:\\Users\\jpgz3\\OneDrive - ITESO\\9 semestre\\MySt\\Laboratorio-4--Microestructura-del-mercado-2\\data.py:73\u001b[0m, in \u001b[0;36morderbooks_df\u001b[1;34m(exchanges, run_time, symbol)\u001b[0m\n\u001b[0;32m     71\u001b[0m data \u001b[39m=\u001b[39m asyncio\u001b[39m.\u001b[39mrun(multi_orderbooks(exchanges, run_time\u001b[39m=\u001b[39mrun_time, symbol\u001b[39m=\u001b[39msymbol))\n\u001b[0;32m     72\u001b[0m data \u001b[39m=\u001b[39m [item \u001b[39mfor\u001b[39;00m sublist \u001b[39min\u001b[39;00m data \u001b[39mfor\u001b[39;00m item \u001b[39min\u001b[39;00m sublist]\n\u001b[1;32m---> 73\u001b[0m data \u001b[39m=\u001b[39m pd\u001b[39m.\u001b[39mDataFrame(data)\n\u001b[0;32m     74\u001b[0m data\u001b[39m.\u001b[39mset_index(\u001b[39m'\u001b[39m\u001b[39mexchange\u001b[39m\u001b[39m'\u001b[39m, inplace\u001b[39m=\u001b[39m\u001b[39mTrue\u001b[39;00m)\n\u001b[0;32m     75\u001b[0m \u001b[39mreturn\u001b[39;00m data\n",
      "File \u001b[1;32mc:\\Users\\jpgz3\\OneDrive - ITESO\\9 semestre\\MySt\\Laboratorio-4--Microestructura-del-mercado-2\\data.py:73\u001b[0m, in \u001b[0;36m<listcomp>\u001b[1;34m(.0)\u001b[0m\n\u001b[0;32m     71\u001b[0m data \u001b[39m=\u001b[39m asyncio\u001b[39m.\u001b[39mrun(multi_orderbooks(exchanges, run_time\u001b[39m=\u001b[39mrun_time, symbol\u001b[39m=\u001b[39msymbol))\n\u001b[0;32m     72\u001b[0m data \u001b[39m=\u001b[39m [item \u001b[39mfor\u001b[39;00m sublist \u001b[39min\u001b[39;00m data \u001b[39mfor\u001b[39;00m item \u001b[39min\u001b[39;00m sublist]\n\u001b[1;32m---> 73\u001b[0m data \u001b[39m=\u001b[39m pd\u001b[39m.\u001b[39mDataFrame(data)\n\u001b[0;32m     74\u001b[0m data\u001b[39m.\u001b[39mset_index(\u001b[39m'\u001b[39m\u001b[39mexchange\u001b[39m\u001b[39m'\u001b[39m, inplace\u001b[39m=\u001b[39m\u001b[39mTrue\u001b[39;00m)\n\u001b[0;32m     75\u001b[0m \u001b[39mreturn\u001b[39;00m data\n",
      "\u001b[1;31mTypeError\u001b[0m: 'AttributeError' object is not iterable"
     ]
    }
   ],
   "source": [
    "exchanges = [\"bitforex\", \"huobipro\", \"bitmart\"]\n",
    "run_time = 10\n",
    "symbol2 = \"BTC/USDT\"\n",
    "BTC_USDT = asyncio.run(main.get_orderbooks(exchanges,run_time,symbol2))\n",
    "# Debido a que muestra errores que no puedo solucionar de aqui se corre hasta que salga"
   ]
  },
  {
   "cell_type": "code",
   "execution_count": 4,
   "metadata": {},
   "outputs": [
    {
     "data": {
      "text/html": [
       "<div>\n",
       "<style scoped>\n",
       "    .dataframe tbody tr th:only-of-type {\n",
       "        vertical-align: middle;\n",
       "    }\n",
       "\n",
       "    .dataframe tbody tr th {\n",
       "        vertical-align: top;\n",
       "    }\n",
       "\n",
       "    .dataframe thead th {\n",
       "        text-align: right;\n",
       "    }\n",
       "</style>\n",
       "<table border=\"1\" class=\"dataframe\">\n",
       "  <thead>\n",
       "    <tr style=\"text-align: right;\">\n",
       "      <th></th>\n",
       "      <th>exchange</th>\n",
       "      <th>timeStamp</th>\n",
       "      <th>Level</th>\n",
       "      <th>ask_Volume</th>\n",
       "      <th>bid_Volume</th>\n",
       "      <th>total_vol</th>\n",
       "      <th>Mid_Price</th>\n",
       "      <th>VWAP</th>\n",
       "    </tr>\n",
       "  </thead>\n",
       "  <tbody>\n",
       "    <tr>\n",
       "      <th>0</th>\n",
       "      <td>bitforex</td>\n",
       "      <td>2023-04-23T01:02:31.864Z</td>\n",
       "      <td>5</td>\n",
       "      <td>12.6580</td>\n",
       "      <td>11.1514</td>\n",
       "      <td>23.8094</td>\n",
       "      <td>0.067423</td>\n",
       "      <td>0.067423</td>\n",
       "    </tr>\n",
       "    <tr>\n",
       "      <th>1</th>\n",
       "      <td>huobipro</td>\n",
       "      <td>2023-04-23T01:02:24.297Z</td>\n",
       "      <td>150</td>\n",
       "      <td>111.4527</td>\n",
       "      <td>95.3852</td>\n",
       "      <td>206.8379</td>\n",
       "      <td>0.067416</td>\n",
       "      <td>0.067460</td>\n",
       "    </tr>\n",
       "    <tr>\n",
       "      <th>2</th>\n",
       "      <td>huobipro</td>\n",
       "      <td>2023-04-23T01:02:24.905Z</td>\n",
       "      <td>150</td>\n",
       "      <td>111.4350</td>\n",
       "      <td>95.3852</td>\n",
       "      <td>206.8202</td>\n",
       "      <td>0.067416</td>\n",
       "      <td>0.067460</td>\n",
       "    </tr>\n",
       "    <tr>\n",
       "      <th>3</th>\n",
       "      <td>huobipro</td>\n",
       "      <td>2023-04-23T01:02:25.525Z</td>\n",
       "      <td>150</td>\n",
       "      <td>111.4527</td>\n",
       "      <td>95.3852</td>\n",
       "      <td>206.8379</td>\n",
       "      <td>0.067416</td>\n",
       "      <td>0.067460</td>\n",
       "    </tr>\n",
       "    <tr>\n",
       "      <th>4</th>\n",
       "      <td>huobipro</td>\n",
       "      <td>2023-04-23T01:02:27.150Z</td>\n",
       "      <td>150</td>\n",
       "      <td>111.4527</td>\n",
       "      <td>95.3852</td>\n",
       "      <td>206.8379</td>\n",
       "      <td>0.067416</td>\n",
       "      <td>0.067460</td>\n",
       "    </tr>\n",
       "    <tr>\n",
       "      <th>5</th>\n",
       "      <td>huobipro</td>\n",
       "      <td>2023-04-23T01:02:28.752Z</td>\n",
       "      <td>150</td>\n",
       "      <td>111.5308</td>\n",
       "      <td>95.3852</td>\n",
       "      <td>206.9160</td>\n",
       "      <td>0.067416</td>\n",
       "      <td>0.067460</td>\n",
       "    </tr>\n",
       "    <tr>\n",
       "      <th>6</th>\n",
       "      <td>huobipro</td>\n",
       "      <td>2023-04-23T01:02:29.370Z</td>\n",
       "      <td>150</td>\n",
       "      <td>111.5308</td>\n",
       "      <td>95.3852</td>\n",
       "      <td>206.9160</td>\n",
       "      <td>0.067416</td>\n",
       "      <td>0.067460</td>\n",
       "    </tr>\n",
       "    <tr>\n",
       "      <th>7</th>\n",
       "      <td>huobipro</td>\n",
       "      <td>2023-04-23T01:02:29.990Z</td>\n",
       "      <td>150</td>\n",
       "      <td>111.5308</td>\n",
       "      <td>95.3852</td>\n",
       "      <td>206.9160</td>\n",
       "      <td>0.067416</td>\n",
       "      <td>0.067460</td>\n",
       "    </tr>\n",
       "    <tr>\n",
       "      <th>8</th>\n",
       "      <td>huobipro</td>\n",
       "      <td>2023-04-23T01:02:30.608Z</td>\n",
       "      <td>150</td>\n",
       "      <td>111.5308</td>\n",
       "      <td>95.7970</td>\n",
       "      <td>207.3278</td>\n",
       "      <td>0.067416</td>\n",
       "      <td>0.067461</td>\n",
       "    </tr>\n",
       "    <tr>\n",
       "      <th>9</th>\n",
       "      <td>huobipro</td>\n",
       "      <td>2023-04-23T01:02:31.225Z</td>\n",
       "      <td>150</td>\n",
       "      <td>111.5308</td>\n",
       "      <td>95.7970</td>\n",
       "      <td>207.3278</td>\n",
       "      <td>0.067416</td>\n",
       "      <td>0.067461</td>\n",
       "    </tr>\n",
       "  </tbody>\n",
       "</table>\n",
       "</div>"
      ],
      "text/plain": [
       "   exchange                 timeStamp  Level  ask_Volume  bid_Volume   \n",
       "0  bitforex  2023-04-23T01:02:31.864Z      5     12.6580     11.1514  \\\n",
       "1  huobipro  2023-04-23T01:02:24.297Z    150    111.4527     95.3852   \n",
       "2  huobipro  2023-04-23T01:02:24.905Z    150    111.4350     95.3852   \n",
       "3  huobipro  2023-04-23T01:02:25.525Z    150    111.4527     95.3852   \n",
       "4  huobipro  2023-04-23T01:02:27.150Z    150    111.4527     95.3852   \n",
       "5  huobipro  2023-04-23T01:02:28.752Z    150    111.5308     95.3852   \n",
       "6  huobipro  2023-04-23T01:02:29.370Z    150    111.5308     95.3852   \n",
       "7  huobipro  2023-04-23T01:02:29.990Z    150    111.5308     95.3852   \n",
       "8  huobipro  2023-04-23T01:02:30.608Z    150    111.5308     95.7970   \n",
       "9  huobipro  2023-04-23T01:02:31.225Z    150    111.5308     95.7970   \n",
       "\n",
       "   total_vol  Mid_Price      VWAP  \n",
       "0    23.8094   0.067423  0.067423  \n",
       "1   206.8379   0.067416  0.067460  \n",
       "2   206.8202   0.067416  0.067460  \n",
       "3   206.8379   0.067416  0.067460  \n",
       "4   206.8379   0.067416  0.067460  \n",
       "5   206.9160   0.067416  0.067460  \n",
       "6   206.9160   0.067416  0.067460  \n",
       "7   206.9160   0.067416  0.067460  \n",
       "8   207.3278   0.067416  0.067461  \n",
       "9   207.3278   0.067416  0.067461  "
      ]
     },
     "execution_count": 4,
     "metadata": {},
     "output_type": "execute_result"
    }
   ],
   "source": [
    "ETH_BTC = ETH_BTC.reset_index()\n",
    "ETH_BTC.head(10)"
   ]
  },
  {
   "cell_type": "code",
   "execution_count": 10,
   "metadata": {},
   "outputs": [
    {
     "ename": "NameError",
     "evalue": "name 'BTC_USDT' is not defined",
     "output_type": "error",
     "traceback": [
      "\u001b[1;31m---------------------------------------------------------------------------\u001b[0m",
      "\u001b[1;31mNameError\u001b[0m                                 Traceback (most recent call last)",
      "Cell \u001b[1;32mIn[10], line 1\u001b[0m\n\u001b[1;32m----> 1\u001b[0m BTC_USDT \u001b[39m=\u001b[39m BTC_USDT\u001b[39m.\u001b[39mreset_index()\n\u001b[0;32m      2\u001b[0m BTC_USDT\u001b[39m.\u001b[39mhead(\u001b[39m10\u001b[39m)\n",
      "\u001b[1;31mNameError\u001b[0m: name 'BTC_USDT' is not defined"
     ]
    }
   ],
   "source": [
    "BTC_USDT = BTC_USDT.reset_index()\n",
    "BTC_USDT.head(10)"
   ]
  },
  {
   "attachments": {},
   "cell_type": "markdown",
   "metadata": {},
   "source": [
    "## 2. Visualizations"
   ]
  },
  {
   "cell_type": "code",
   "execution_count": 6,
   "metadata": {},
   "outputs": [
    {
     "data": {
      "text/plain": [
       "<module 'visualizations' from 'c:\\\\Users\\\\jpgz3\\\\OneDrive - ITESO\\\\9 semestre\\\\MySt\\\\Laboratorio-4--Microestructura-del-mercado-2\\\\visualizations.py'>"
      ]
     },
     "execution_count": 6,
     "metadata": {},
     "output_type": "execute_result"
    }
   ],
   "source": [
    "import visualizations\n",
    "import nbformat\n",
    "importlib.reload(visualizations)"
   ]
  },
  {
   "cell_type": "code",
   "execution_count": 7,
   "metadata": {},
   "outputs": [
    {
     "data": {
      "application/vnd.plotly.v1+json": {
       "config": {
        "plotlyServerURL": "https://plot.ly"
       },
       "data": [
        {
         "mode": "lines",
         "name": "bitforex Level",
         "type": "scatter",
         "x": [
          "2023-04-23T01:02:31.864Z"
         ],
         "xaxis": "x",
         "y": [
          5
         ],
         "yaxis": "y"
        },
        {
         "mode": "lines",
         "name": "bitforex ask_Volume",
         "type": "scatter",
         "x": [
          "2023-04-23T01:02:31.864Z"
         ],
         "xaxis": "x",
         "y": [
          12.658000000000001
         ],
         "yaxis": "y"
        },
        {
         "mode": "lines",
         "name": "bitforex bid_Volume",
         "type": "scatter",
         "x": [
          "2023-04-23T01:02:31.864Z"
         ],
         "xaxis": "x",
         "y": [
          11.151399999999999
         ],
         "yaxis": "y"
        },
        {
         "mode": "lines",
         "name": "bitforex total_vol",
         "type": "scatter",
         "x": [
          "2023-04-23T01:02:31.864Z"
         ],
         "xaxis": "x4",
         "y": [
          23.8094
         ],
         "yaxis": "y4"
        },
        {
         "mode": "lines",
         "name": "bitforex Mid_Price",
         "type": "scatter",
         "x": [
          "2023-04-23T01:02:31.864Z"
         ],
         "xaxis": "x4",
         "y": [
          0.06742294
         ],
         "yaxis": "y4"
        },
        {
         "mode": "lines",
         "name": "bitforex VWAP",
         "type": "scatter",
         "x": [
          "2023-04-23T01:02:31.864Z"
         ],
         "xaxis": "x4",
         "y": [
          0.06742282298835756
         ],
         "yaxis": "y4"
        },
        {
         "mode": "lines",
         "name": "huobipro Level",
         "type": "scatter",
         "x": [
          "2023-04-23T01:02:24.297Z",
          "2023-04-23T01:02:24.905Z",
          "2023-04-23T01:02:25.525Z",
          "2023-04-23T01:02:27.150Z",
          "2023-04-23T01:02:28.752Z",
          "2023-04-23T01:02:29.370Z",
          "2023-04-23T01:02:29.990Z",
          "2023-04-23T01:02:30.608Z",
          "2023-04-23T01:02:31.225Z"
         ],
         "xaxis": "x2",
         "y": [
          150,
          150,
          150,
          150,
          150,
          150,
          150,
          150,
          150
         ],
         "yaxis": "y2"
        },
        {
         "mode": "lines",
         "name": "huobipro ask_Volume",
         "type": "scatter",
         "x": [
          "2023-04-23T01:02:24.297Z",
          "2023-04-23T01:02:24.905Z",
          "2023-04-23T01:02:25.525Z",
          "2023-04-23T01:02:27.150Z",
          "2023-04-23T01:02:28.752Z",
          "2023-04-23T01:02:29.370Z",
          "2023-04-23T01:02:29.990Z",
          "2023-04-23T01:02:30.608Z",
          "2023-04-23T01:02:31.225Z"
         ],
         "xaxis": "x2",
         "y": [
          111.45270000000001,
          111.435,
          111.45270000000001,
          111.45270000000001,
          111.5308,
          111.5308,
          111.5308,
          111.5308,
          111.5308
         ],
         "yaxis": "y2"
        },
        {
         "mode": "lines",
         "name": "huobipro bid_Volume",
         "type": "scatter",
         "x": [
          "2023-04-23T01:02:24.297Z",
          "2023-04-23T01:02:24.905Z",
          "2023-04-23T01:02:25.525Z",
          "2023-04-23T01:02:27.150Z",
          "2023-04-23T01:02:28.752Z",
          "2023-04-23T01:02:29.370Z",
          "2023-04-23T01:02:29.990Z",
          "2023-04-23T01:02:30.608Z",
          "2023-04-23T01:02:31.225Z"
         ],
         "xaxis": "x2",
         "y": [
          95.38520000000003,
          95.38520000000003,
          95.38520000000003,
          95.38520000000003,
          95.38520000000003,
          95.38520000000003,
          95.38520000000003,
          95.79700000000001,
          95.79700000000001
         ],
         "yaxis": "y2"
        },
        {
         "mode": "lines",
         "name": "huobipro total_vol",
         "type": "scatter",
         "x": [
          "2023-04-23T01:02:24.297Z",
          "2023-04-23T01:02:24.905Z",
          "2023-04-23T01:02:25.525Z",
          "2023-04-23T01:02:27.150Z",
          "2023-04-23T01:02:28.752Z",
          "2023-04-23T01:02:29.370Z",
          "2023-04-23T01:02:29.990Z",
          "2023-04-23T01:02:30.608Z",
          "2023-04-23T01:02:31.225Z"
         ],
         "xaxis": "x5",
         "y": [
          206.83790000000005,
          206.82020000000003,
          206.83790000000005,
          206.83790000000005,
          206.91600000000003,
          206.91600000000003,
          206.91600000000003,
          207.32780000000002,
          207.32780000000002
         ],
         "yaxis": "y5"
        },
        {
         "mode": "lines",
         "name": "huobipro Mid_Price",
         "type": "scatter",
         "x": [
          "2023-04-23T01:02:24.297Z",
          "2023-04-23T01:02:24.905Z",
          "2023-04-23T01:02:25.525Z",
          "2023-04-23T01:02:27.150Z",
          "2023-04-23T01:02:28.752Z",
          "2023-04-23T01:02:29.370Z",
          "2023-04-23T01:02:29.990Z",
          "2023-04-23T01:02:30.608Z",
          "2023-04-23T01:02:31.225Z"
         ],
         "xaxis": "x5",
         "y": [
          0.067416,
          0.067416,
          0.067416,
          0.067416,
          0.067416,
          0.067416,
          0.067416,
          0.067416,
          0.067416
         ],
         "yaxis": "y5"
        },
        {
         "mode": "lines",
         "name": "huobipro VWAP",
         "type": "scatter",
         "x": [
          "2023-04-23T01:02:24.297Z",
          "2023-04-23T01:02:24.905Z",
          "2023-04-23T01:02:25.525Z",
          "2023-04-23T01:02:27.150Z",
          "2023-04-23T01:02:28.752Z",
          "2023-04-23T01:02:29.370Z",
          "2023-04-23T01:02:29.990Z",
          "2023-04-23T01:02:30.608Z",
          "2023-04-23T01:02:31.225Z"
         ],
         "xaxis": "x5",
         "y": [
          0.06745966439612854,
          0.06745964219742556,
          0.06745966439612854,
          0.06745966439612854,
          0.06746022590906453,
          0.06746022590906453,
          0.06746022590906453,
          0.06746062259378624,
          0.06746062259378624
         ],
         "yaxis": "y5"
        },
        {
         "mode": "lines",
         "name": "bitmart Level",
         "type": "scatter",
         "x": [
          "2023-04-23T01:02:24.540Z",
          "2023-04-23T01:02:25.347Z",
          "2023-04-23T01:02:26.184Z",
          "2023-04-23T01:02:27.009Z",
          "2023-04-23T01:02:27.825Z",
          "2023-04-23T01:02:28.650Z",
          "2023-04-23T01:02:29.484Z",
          "2023-04-23T01:02:30.307Z",
          "2023-04-23T01:02:31.156Z"
         ],
         "xaxis": "x3",
         "y": [
          50,
          50,
          50,
          50,
          50,
          50,
          50,
          50,
          50
         ],
         "yaxis": "y3"
        },
        {
         "mode": "lines",
         "name": "bitmart ask_Volume",
         "type": "scatter",
         "x": [
          "2023-04-23T01:02:24.540Z",
          "2023-04-23T01:02:25.347Z",
          "2023-04-23T01:02:26.184Z",
          "2023-04-23T01:02:27.009Z",
          "2023-04-23T01:02:27.825Z",
          "2023-04-23T01:02:28.650Z",
          "2023-04-23T01:02:29.484Z",
          "2023-04-23T01:02:30.307Z",
          "2023-04-23T01:02:31.156Z"
         ],
         "xaxis": "x3",
         "y": [
          663.1267999999999,
          682.2350999999998,
          608.2669999999998,
          663.0960999999999,
          682.2325999999999,
          663.1064999999998,
          607.6725999999999,
          663.1458999999999,
          663.1488999999998
         ],
         "yaxis": "y3"
        },
        {
         "mode": "lines",
         "name": "bitmart bid_Volume",
         "type": "scatter",
         "x": [
          "2023-04-23T01:02:24.540Z",
          "2023-04-23T01:02:25.347Z",
          "2023-04-23T01:02:26.184Z",
          "2023-04-23T01:02:27.009Z",
          "2023-04-23T01:02:27.825Z",
          "2023-04-23T01:02:28.650Z",
          "2023-04-23T01:02:29.484Z",
          "2023-04-23T01:02:30.307Z",
          "2023-04-23T01:02:31.156Z"
         ],
         "xaxis": "x3",
         "y": [
          667.6403,
          638.9814000000001,
          699.4545,
          699.4545,
          699.4734,
          628.1340000000001,
          699.5738,
          699.4804,
          667.6619000000001
         ],
         "yaxis": "y3"
        },
        {
         "mode": "lines",
         "name": "bitmart total_vol",
         "type": "scatter",
         "x": [
          "2023-04-23T01:02:24.540Z",
          "2023-04-23T01:02:25.347Z",
          "2023-04-23T01:02:26.184Z",
          "2023-04-23T01:02:27.009Z",
          "2023-04-23T01:02:27.825Z",
          "2023-04-23T01:02:28.650Z",
          "2023-04-23T01:02:29.484Z",
          "2023-04-23T01:02:30.307Z",
          "2023-04-23T01:02:31.156Z"
         ],
         "xaxis": "x6",
         "y": [
          1330.7671,
          1321.2165,
          1307.7214999999999,
          1362.5506,
          1381.706,
          1291.2404999999999,
          1307.2464,
          1362.6263,
          1330.8107999999997
         ],
         "yaxis": "y6"
        },
        {
         "mode": "lines",
         "name": "bitmart Mid_Price",
         "type": "scatter",
         "x": [
          "2023-04-23T01:02:24.540Z",
          "2023-04-23T01:02:25.347Z",
          "2023-04-23T01:02:26.184Z",
          "2023-04-23T01:02:27.009Z",
          "2023-04-23T01:02:27.825Z",
          "2023-04-23T01:02:28.650Z",
          "2023-04-23T01:02:29.484Z",
          "2023-04-23T01:02:30.307Z",
          "2023-04-23T01:02:31.156Z"
         ],
         "xaxis": "x6",
         "y": [
          0.067422,
          0.067422,
          0.067422,
          0.067422,
          0.067422,
          0.067422,
          0.067422,
          0.067422,
          0.067422
         ],
         "yaxis": "y6"
        },
        {
         "mode": "lines",
         "name": "bitmart VWAP",
         "type": "scatter",
         "x": [
          "2023-04-23T01:02:24.540Z",
          "2023-04-23T01:02:25.347Z",
          "2023-04-23T01:02:26.184Z",
          "2023-04-23T01:02:27.009Z",
          "2023-04-23T01:02:27.825Z",
          "2023-04-23T01:02:28.650Z",
          "2023-04-23T01:02:29.484Z",
          "2023-04-23T01:02:30.307Z",
          "2023-04-23T01:02:31.156Z"
         ],
         "xaxis": "x6",
         "y": [
          0.06742022290511993,
          0.06743526067272093,
          0.06739336332743631,
          0.06741087389862807,
          0.06741660794488845,
          0.06743268359085701,
          0.0673933308950784,
          0.06741087456648974,
          0.0674202224558893
         ],
         "yaxis": "y6"
        }
       ],
       "layout": {
        "annotations": [
         {
          "font": {
           "size": 16
          },
          "showarrow": false,
          "text": "Level",
          "x": 0.14444444444444446,
          "xanchor": "center",
          "xref": "paper",
          "y": 1,
          "yanchor": "bottom",
          "yref": "paper"
         },
         {
          "font": {
           "size": 16
          },
          "showarrow": false,
          "text": "ask_Volume",
          "x": 0.5,
          "xanchor": "center",
          "xref": "paper",
          "y": 1,
          "yanchor": "bottom",
          "yref": "paper"
         },
         {
          "font": {
           "size": 16
          },
          "showarrow": false,
          "text": "bid_Volume",
          "x": 0.8555555555555556,
          "xanchor": "center",
          "xref": "paper",
          "y": 1,
          "yanchor": "bottom",
          "yref": "paper"
         },
         {
          "font": {
           "size": 16
          },
          "showarrow": false,
          "text": "total_vol",
          "x": 0.14444444444444446,
          "xanchor": "center",
          "xref": "paper",
          "y": 0.375,
          "yanchor": "bottom",
          "yref": "paper"
         },
         {
          "font": {
           "size": 16
          },
          "showarrow": false,
          "text": "Mid_Price",
          "x": 0.5,
          "xanchor": "center",
          "xref": "paper",
          "y": 0.375,
          "yanchor": "bottom",
          "yref": "paper"
         },
         {
          "font": {
           "size": 16
          },
          "showarrow": false,
          "text": "VWAP",
          "x": 0.8555555555555556,
          "xanchor": "center",
          "xref": "paper",
          "y": 0.375,
          "yanchor": "bottom",
          "yref": "paper"
         }
        ],
        "height": 600,
        "template": {
         "data": {
          "bar": [
           {
            "error_x": {
             "color": "#2a3f5f"
            },
            "error_y": {
             "color": "#2a3f5f"
            },
            "marker": {
             "line": {
              "color": "#E5ECF6",
              "width": 0.5
             },
             "pattern": {
              "fillmode": "overlay",
              "size": 10,
              "solidity": 0.2
             }
            },
            "type": "bar"
           }
          ],
          "barpolar": [
           {
            "marker": {
             "line": {
              "color": "#E5ECF6",
              "width": 0.5
             },
             "pattern": {
              "fillmode": "overlay",
              "size": 10,
              "solidity": 0.2
             }
            },
            "type": "barpolar"
           }
          ],
          "carpet": [
           {
            "aaxis": {
             "endlinecolor": "#2a3f5f",
             "gridcolor": "white",
             "linecolor": "white",
             "minorgridcolor": "white",
             "startlinecolor": "#2a3f5f"
            },
            "baxis": {
             "endlinecolor": "#2a3f5f",
             "gridcolor": "white",
             "linecolor": "white",
             "minorgridcolor": "white",
             "startlinecolor": "#2a3f5f"
            },
            "type": "carpet"
           }
          ],
          "choropleth": [
           {
            "colorbar": {
             "outlinewidth": 0,
             "ticks": ""
            },
            "type": "choropleth"
           }
          ],
          "contour": [
           {
            "colorbar": {
             "outlinewidth": 0,
             "ticks": ""
            },
            "colorscale": [
             [
              0,
              "#0d0887"
             ],
             [
              0.1111111111111111,
              "#46039f"
             ],
             [
              0.2222222222222222,
              "#7201a8"
             ],
             [
              0.3333333333333333,
              "#9c179e"
             ],
             [
              0.4444444444444444,
              "#bd3786"
             ],
             [
              0.5555555555555556,
              "#d8576b"
             ],
             [
              0.6666666666666666,
              "#ed7953"
             ],
             [
              0.7777777777777778,
              "#fb9f3a"
             ],
             [
              0.8888888888888888,
              "#fdca26"
             ],
             [
              1,
              "#f0f921"
             ]
            ],
            "type": "contour"
           }
          ],
          "contourcarpet": [
           {
            "colorbar": {
             "outlinewidth": 0,
             "ticks": ""
            },
            "type": "contourcarpet"
           }
          ],
          "heatmap": [
           {
            "colorbar": {
             "outlinewidth": 0,
             "ticks": ""
            },
            "colorscale": [
             [
              0,
              "#0d0887"
             ],
             [
              0.1111111111111111,
              "#46039f"
             ],
             [
              0.2222222222222222,
              "#7201a8"
             ],
             [
              0.3333333333333333,
              "#9c179e"
             ],
             [
              0.4444444444444444,
              "#bd3786"
             ],
             [
              0.5555555555555556,
              "#d8576b"
             ],
             [
              0.6666666666666666,
              "#ed7953"
             ],
             [
              0.7777777777777778,
              "#fb9f3a"
             ],
             [
              0.8888888888888888,
              "#fdca26"
             ],
             [
              1,
              "#f0f921"
             ]
            ],
            "type": "heatmap"
           }
          ],
          "heatmapgl": [
           {
            "colorbar": {
             "outlinewidth": 0,
             "ticks": ""
            },
            "colorscale": [
             [
              0,
              "#0d0887"
             ],
             [
              0.1111111111111111,
              "#46039f"
             ],
             [
              0.2222222222222222,
              "#7201a8"
             ],
             [
              0.3333333333333333,
              "#9c179e"
             ],
             [
              0.4444444444444444,
              "#bd3786"
             ],
             [
              0.5555555555555556,
              "#d8576b"
             ],
             [
              0.6666666666666666,
              "#ed7953"
             ],
             [
              0.7777777777777778,
              "#fb9f3a"
             ],
             [
              0.8888888888888888,
              "#fdca26"
             ],
             [
              1,
              "#f0f921"
             ]
            ],
            "type": "heatmapgl"
           }
          ],
          "histogram": [
           {
            "marker": {
             "pattern": {
              "fillmode": "overlay",
              "size": 10,
              "solidity": 0.2
             }
            },
            "type": "histogram"
           }
          ],
          "histogram2d": [
           {
            "colorbar": {
             "outlinewidth": 0,
             "ticks": ""
            },
            "colorscale": [
             [
              0,
              "#0d0887"
             ],
             [
              0.1111111111111111,
              "#46039f"
             ],
             [
              0.2222222222222222,
              "#7201a8"
             ],
             [
              0.3333333333333333,
              "#9c179e"
             ],
             [
              0.4444444444444444,
              "#bd3786"
             ],
             [
              0.5555555555555556,
              "#d8576b"
             ],
             [
              0.6666666666666666,
              "#ed7953"
             ],
             [
              0.7777777777777778,
              "#fb9f3a"
             ],
             [
              0.8888888888888888,
              "#fdca26"
             ],
             [
              1,
              "#f0f921"
             ]
            ],
            "type": "histogram2d"
           }
          ],
          "histogram2dcontour": [
           {
            "colorbar": {
             "outlinewidth": 0,
             "ticks": ""
            },
            "colorscale": [
             [
              0,
              "#0d0887"
             ],
             [
              0.1111111111111111,
              "#46039f"
             ],
             [
              0.2222222222222222,
              "#7201a8"
             ],
             [
              0.3333333333333333,
              "#9c179e"
             ],
             [
              0.4444444444444444,
              "#bd3786"
             ],
             [
              0.5555555555555556,
              "#d8576b"
             ],
             [
              0.6666666666666666,
              "#ed7953"
             ],
             [
              0.7777777777777778,
              "#fb9f3a"
             ],
             [
              0.8888888888888888,
              "#fdca26"
             ],
             [
              1,
              "#f0f921"
             ]
            ],
            "type": "histogram2dcontour"
           }
          ],
          "mesh3d": [
           {
            "colorbar": {
             "outlinewidth": 0,
             "ticks": ""
            },
            "type": "mesh3d"
           }
          ],
          "parcoords": [
           {
            "line": {
             "colorbar": {
              "outlinewidth": 0,
              "ticks": ""
             }
            },
            "type": "parcoords"
           }
          ],
          "pie": [
           {
            "automargin": true,
            "type": "pie"
           }
          ],
          "scatter": [
           {
            "fillpattern": {
             "fillmode": "overlay",
             "size": 10,
             "solidity": 0.2
            },
            "type": "scatter"
           }
          ],
          "scatter3d": [
           {
            "line": {
             "colorbar": {
              "outlinewidth": 0,
              "ticks": ""
             }
            },
            "marker": {
             "colorbar": {
              "outlinewidth": 0,
              "ticks": ""
             }
            },
            "type": "scatter3d"
           }
          ],
          "scattercarpet": [
           {
            "marker": {
             "colorbar": {
              "outlinewidth": 0,
              "ticks": ""
             }
            },
            "type": "scattercarpet"
           }
          ],
          "scattergeo": [
           {
            "marker": {
             "colorbar": {
              "outlinewidth": 0,
              "ticks": ""
             }
            },
            "type": "scattergeo"
           }
          ],
          "scattergl": [
           {
            "marker": {
             "colorbar": {
              "outlinewidth": 0,
              "ticks": ""
             }
            },
            "type": "scattergl"
           }
          ],
          "scattermapbox": [
           {
            "marker": {
             "colorbar": {
              "outlinewidth": 0,
              "ticks": ""
             }
            },
            "type": "scattermapbox"
           }
          ],
          "scatterpolar": [
           {
            "marker": {
             "colorbar": {
              "outlinewidth": 0,
              "ticks": ""
             }
            },
            "type": "scatterpolar"
           }
          ],
          "scatterpolargl": [
           {
            "marker": {
             "colorbar": {
              "outlinewidth": 0,
              "ticks": ""
             }
            },
            "type": "scatterpolargl"
           }
          ],
          "scatterternary": [
           {
            "marker": {
             "colorbar": {
              "outlinewidth": 0,
              "ticks": ""
             }
            },
            "type": "scatterternary"
           }
          ],
          "surface": [
           {
            "colorbar": {
             "outlinewidth": 0,
             "ticks": ""
            },
            "colorscale": [
             [
              0,
              "#0d0887"
             ],
             [
              0.1111111111111111,
              "#46039f"
             ],
             [
              0.2222222222222222,
              "#7201a8"
             ],
             [
              0.3333333333333333,
              "#9c179e"
             ],
             [
              0.4444444444444444,
              "#bd3786"
             ],
             [
              0.5555555555555556,
              "#d8576b"
             ],
             [
              0.6666666666666666,
              "#ed7953"
             ],
             [
              0.7777777777777778,
              "#fb9f3a"
             ],
             [
              0.8888888888888888,
              "#fdca26"
             ],
             [
              1,
              "#f0f921"
             ]
            ],
            "type": "surface"
           }
          ],
          "table": [
           {
            "cells": {
             "fill": {
              "color": "#EBF0F8"
             },
             "line": {
              "color": "white"
             }
            },
            "header": {
             "fill": {
              "color": "#C8D4E3"
             },
             "line": {
              "color": "white"
             }
            },
            "type": "table"
           }
          ]
         },
         "layout": {
          "annotationdefaults": {
           "arrowcolor": "#2a3f5f",
           "arrowhead": 0,
           "arrowwidth": 1
          },
          "autotypenumbers": "strict",
          "coloraxis": {
           "colorbar": {
            "outlinewidth": 0,
            "ticks": ""
           }
          },
          "colorscale": {
           "diverging": [
            [
             0,
             "#8e0152"
            ],
            [
             0.1,
             "#c51b7d"
            ],
            [
             0.2,
             "#de77ae"
            ],
            [
             0.3,
             "#f1b6da"
            ],
            [
             0.4,
             "#fde0ef"
            ],
            [
             0.5,
             "#f7f7f7"
            ],
            [
             0.6,
             "#e6f5d0"
            ],
            [
             0.7,
             "#b8e186"
            ],
            [
             0.8,
             "#7fbc41"
            ],
            [
             0.9,
             "#4d9221"
            ],
            [
             1,
             "#276419"
            ]
           ],
           "sequential": [
            [
             0,
             "#0d0887"
            ],
            [
             0.1111111111111111,
             "#46039f"
            ],
            [
             0.2222222222222222,
             "#7201a8"
            ],
            [
             0.3333333333333333,
             "#9c179e"
            ],
            [
             0.4444444444444444,
             "#bd3786"
            ],
            [
             0.5555555555555556,
             "#d8576b"
            ],
            [
             0.6666666666666666,
             "#ed7953"
            ],
            [
             0.7777777777777778,
             "#fb9f3a"
            ],
            [
             0.8888888888888888,
             "#fdca26"
            ],
            [
             1,
             "#f0f921"
            ]
           ],
           "sequentialminus": [
            [
             0,
             "#0d0887"
            ],
            [
             0.1111111111111111,
             "#46039f"
            ],
            [
             0.2222222222222222,
             "#7201a8"
            ],
            [
             0.3333333333333333,
             "#9c179e"
            ],
            [
             0.4444444444444444,
             "#bd3786"
            ],
            [
             0.5555555555555556,
             "#d8576b"
            ],
            [
             0.6666666666666666,
             "#ed7953"
            ],
            [
             0.7777777777777778,
             "#fb9f3a"
            ],
            [
             0.8888888888888888,
             "#fdca26"
            ],
            [
             1,
             "#f0f921"
            ]
           ]
          },
          "colorway": [
           "#636efa",
           "#EF553B",
           "#00cc96",
           "#ab63fa",
           "#FFA15A",
           "#19d3f3",
           "#FF6692",
           "#B6E880",
           "#FF97FF",
           "#FECB52"
          ],
          "font": {
           "color": "#2a3f5f"
          },
          "geo": {
           "bgcolor": "white",
           "lakecolor": "white",
           "landcolor": "#E5ECF6",
           "showlakes": true,
           "showland": true,
           "subunitcolor": "white"
          },
          "hoverlabel": {
           "align": "left"
          },
          "hovermode": "closest",
          "mapbox": {
           "style": "light"
          },
          "paper_bgcolor": "white",
          "plot_bgcolor": "#E5ECF6",
          "polar": {
           "angularaxis": {
            "gridcolor": "white",
            "linecolor": "white",
            "ticks": ""
           },
           "bgcolor": "#E5ECF6",
           "radialaxis": {
            "gridcolor": "white",
            "linecolor": "white",
            "ticks": ""
           }
          },
          "scene": {
           "xaxis": {
            "backgroundcolor": "#E5ECF6",
            "gridcolor": "white",
            "gridwidth": 2,
            "linecolor": "white",
            "showbackground": true,
            "ticks": "",
            "zerolinecolor": "white"
           },
           "yaxis": {
            "backgroundcolor": "#E5ECF6",
            "gridcolor": "white",
            "gridwidth": 2,
            "linecolor": "white",
            "showbackground": true,
            "ticks": "",
            "zerolinecolor": "white"
           },
           "zaxis": {
            "backgroundcolor": "#E5ECF6",
            "gridcolor": "white",
            "gridwidth": 2,
            "linecolor": "white",
            "showbackground": true,
            "ticks": "",
            "zerolinecolor": "white"
           }
          },
          "shapedefaults": {
           "line": {
            "color": "#2a3f5f"
           }
          },
          "ternary": {
           "aaxis": {
            "gridcolor": "white",
            "linecolor": "white",
            "ticks": ""
           },
           "baxis": {
            "gridcolor": "white",
            "linecolor": "white",
            "ticks": ""
           },
           "bgcolor": "#E5ECF6",
           "caxis": {
            "gridcolor": "white",
            "linecolor": "white",
            "ticks": ""
           }
          },
          "title": {
           "x": 0.05
          },
          "xaxis": {
           "automargin": true,
           "gridcolor": "white",
           "linecolor": "white",
           "ticks": "",
           "title": {
            "standoff": 15
           },
           "zerolinecolor": "white",
           "zerolinewidth": 2
          },
          "yaxis": {
           "automargin": true,
           "gridcolor": "white",
           "linecolor": "white",
           "ticks": "",
           "title": {
            "standoff": 15
           },
           "zerolinecolor": "white",
           "zerolinewidth": 2
          }
         }
        },
        "title": {
         "text": "ETH/BTC - Order Book Data"
        },
        "width": 1000,
        "xaxis": {
         "anchor": "y",
         "domain": [
          0,
          0.2888888888888889
         ]
        },
        "xaxis2": {
         "anchor": "y2",
         "domain": [
          0.35555555555555557,
          0.6444444444444445
         ]
        },
        "xaxis3": {
         "anchor": "y3",
         "domain": [
          0.7111111111111111,
          1
         ]
        },
        "xaxis4": {
         "anchor": "y4",
         "domain": [
          0,
          0.2888888888888889
         ]
        },
        "xaxis5": {
         "anchor": "y5",
         "domain": [
          0.35555555555555557,
          0.6444444444444445
         ]
        },
        "xaxis6": {
         "anchor": "y6",
         "domain": [
          0.7111111111111111,
          1
         ]
        },
        "yaxis": {
         "anchor": "x",
         "domain": [
          0.625,
          1
         ]
        },
        "yaxis2": {
         "anchor": "x2",
         "domain": [
          0.625,
          1
         ]
        },
        "yaxis3": {
         "anchor": "x3",
         "domain": [
          0.625,
          1
         ]
        },
        "yaxis4": {
         "anchor": "x4",
         "domain": [
          0,
          0.375
         ]
        },
        "yaxis5": {
         "anchor": "x5",
         "domain": [
          0,
          0.375
         ]
        },
        "yaxis6": {
         "anchor": "x6",
         "domain": [
          0,
          0.375
         ]
        }
       }
      }
     },
     "metadata": {},
     "output_type": "display_data"
    }
   ],
   "source": [
    "visualizations.graficas(ETH_BTC,'ETH/BTC')"
   ]
  },
  {
   "cell_type": "code",
   "execution_count": null,
   "metadata": {},
   "outputs": [],
   "source": [
    "visualizations.graficas(BTC_USDT,'ETH/BTC')"
   ]
  }
 ],
 "metadata": {
  "kernelspec": {
   "display_name": "venv",
   "language": "python",
   "name": "python3"
  },
  "language_info": {
   "codemirror_mode": {
    "name": "ipython",
    "version": 3
   },
   "file_extension": ".py",
   "mimetype": "text/x-python",
   "name": "python",
   "nbconvert_exporter": "python",
   "pygments_lexer": "ipython3",
   "version": "3.9.13"
  },
  "orig_nbformat": 4
 },
 "nbformat": 4,
 "nbformat_minor": 2
}
